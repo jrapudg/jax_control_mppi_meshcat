{
 "cells": [
  {
   "cell_type": "code",
   "execution_count": null,
   "id": "8864ba1c",
   "metadata": {},
   "outputs": [],
   "source": [
    "import numpy as np\n",
    "import os\n",
    "import time\n",
    "\n",
    "import meshcat\n",
    "import meshcat.geometry as g\n",
    "import meshcat.transformations as tf\n",
    "from meshcat.animation import Animation\n",
    "\n",
    "import matplotlib.pyplot as plt\n",
    "import h5py"
   ]
  },
  {
   "cell_type": "code",
   "execution_count": null,
   "id": "92d6e256",
   "metadata": {},
   "outputs": [],
   "source": [
    "from utils.jax_utils import get_coords_from_angle, wrap_angle\n",
    "import jax.numpy as jnp"
   ]
  },
  {
   "cell_type": "code",
   "execution_count": null,
   "id": "d8f4d61c",
   "metadata": {},
   "outputs": [],
   "source": [
    "# Create a new visualizer\n",
    "vis = meshcat.Visualizer()"
   ]
  },
  {
   "cell_type": "code",
   "execution_count": null,
   "id": "6dd3ac6d",
   "metadata": {},
   "outputs": [],
   "source": [
    "vis.delete()"
   ]
  },
  {
   "cell_type": "code",
   "execution_count": null,
   "id": "399f574a",
   "metadata": {},
   "outputs": [],
   "source": [
    "def visualize_cartpole(vis, model, q, dt):\n",
    "\n",
    "    cart_pole = vis[\"cart_pole\"]\n",
    "    cart_pole.delete()\n",
    "    cart = cart_pole[\"cart\"]\n",
    "    pivot = cart[\"pivot\"]\n",
    "    pole = pivot[\"pole\"]\n",
    "\n",
    "    mat1 = g.MeshPhongMaterial(color=0x3f2a32, reflectivity=0.8)\n",
    "    mat2 = g.MeshPhongMaterial(color=0xb82e3d, reflectivity=0.8)\n",
    "    \n",
    "    cart.set_object(g.Box([0.5, 0.3, 0.2]), mat2)\n",
    "    pole.set_object(g.Box([1, 0.05, 0.05]), mat1)\n",
    "    pole.set_transform(tf.translation_matrix([0.5, 0, 0]))\n",
    "    pivot.set_transform(tf.rotation_matrix(np.pi/2, [0, 1, 0]))\n",
    "    \n",
    "    \n",
    "    fps = np.ceil(1/dt)\n",
    "    anim = Animation(default_framerate=fps)\n",
    "    \n",
    "    for t in range(len(q)):\n",
    "        with anim.at_frame(vis, t) as frame:\n",
    "            frame[\"cart_pole/cart\"].set_transform(tf.translation_matrix([q[t][0], 0, 0]))\n",
    "            frame[\"cart_pole/cart/pivot\"].set_transform(tf.rotation_matrix(np.pi/2+ q[t][1], [0, 1, 0]))\n",
    "    vis.set_animation(anim)"
   ]
  },
  {
   "cell_type": "code",
   "execution_count": null,
   "id": "422d1f72",
   "metadata": {},
   "outputs": [],
   "source": [
    "#q = [[np.pi*np.sin(2*np.pi*t), np.pi*np.sin(2*np.pi*t)] for t in np.linspace(0,2, 41)]"
   ]
  },
  {
   "cell_type": "code",
   "execution_count": null,
   "id": "2246c1be",
   "metadata": {},
   "outputs": [],
   "source": [
    "#visualize_cartpole(vis, None, q, 0.05)"
   ]
  },
  {
   "cell_type": "markdown",
   "id": "0c3507a4",
   "metadata": {},
   "source": [
    "## Cart MPPI"
   ]
  },
  {
   "cell_type": "code",
   "execution_count": null,
   "id": "ac638a92",
   "metadata": {},
   "outputs": [],
   "source": [
    "from controller.mppi import MPPI\n",
    "from dynamics.models_meshcat import cartpole_dynamics_rk4, cartpole_dynamics_sim_rk4"
   ]
  },
  {
   "cell_type": "code",
   "execution_count": null,
   "id": "4791b645",
   "metadata": {},
   "outputs": [],
   "source": [
    "params = {'seed':42,\n",
    "          'h':0.02,\n",
    "          'env_name':'Cartpole-meshcat',\n",
    "          'sample_type':'cubic',\n",
    "          #'sample_type':'normal',\n",
    "          'n_knots':30,\n",
    "          'horizon':60,\n",
    "          'temperature':0.001,\n",
    "          'n_samples':1000,\n",
    "          'noise_sigma':0.8}"
   ]
  },
  {
   "cell_type": "code",
   "execution_count": null,
   "id": "c2f0d2af",
   "metadata": {},
   "outputs": [],
   "source": [
    "controller_jax = MPPI(None, params)\n",
    "controller_jax.reset_planner()"
   ]
  },
  {
   "cell_type": "code",
   "execution_count": null,
   "id": "fd07ec69",
   "metadata": {},
   "outputs": [],
   "source": [
    "x0 = np.array([0, 0.0, 0.0, 0.0])\n",
    "tfinal = 10\n",
    "h = params[\"h\"]\n",
    "Nt = int(np.ceil(tfinal/h))+1\n",
    "tvec = np.linspace(0, tfinal, Nt)\n",
    "x = x0*1\n",
    "q_sim = []\n",
    "for ti in tvec:\n",
    "    u, _ = controller_jax.get_u(x)\n",
    "    x = cartpole_dynamics_sim_rk4(x, u, h)\n",
    "    q_sim.append(x[0:2])"
   ]
  },
  {
   "cell_type": "code",
   "execution_count": null,
   "id": "a0c2553c",
   "metadata": {},
   "outputs": [],
   "source": [
    "visualize_cartpole(vis, None, q_sim, h)"
   ]
  },
  {
   "cell_type": "markdown",
   "id": "e9142355",
   "metadata": {},
   "source": [
    "## Performance"
   ]
  },
  {
   "cell_type": "code",
   "execution_count": null,
   "id": "70b5e198",
   "metadata": {},
   "outputs": [],
   "source": [
    "from jax_wrappers.rollout_functions import load_rollout_jax, step_wrapper_cartpole"
   ]
  },
  {
   "cell_type": "code",
   "execution_count": null,
   "id": "184780f6",
   "metadata": {},
   "outputs": [],
   "source": [
    "rollout_jax = load_rollout_jax(step_wrapper_cartpole)"
   ]
  },
  {
   "cell_type": "code",
   "execution_count": null,
   "id": "627318fd",
   "metadata": {},
   "outputs": [],
   "source": [
    "rng = np.random.default_rng(params[\"seed\"])"
   ]
  },
  {
   "cell_type": "code",
   "execution_count": null,
   "id": "0ef53661",
   "metadata": {},
   "outputs": [],
   "source": [
    "n_samples = 1000\n",
    "horizon = 20\n",
    "act_dim = 1"
   ]
  },
  {
   "cell_type": "code",
   "execution_count": null,
   "id": "0caee809",
   "metadata": {},
   "outputs": [],
   "source": [
    "size = (n_samples, horizon, act_dim)\n",
    "acts = rng.normal(size=size)"
   ]
  },
  {
   "cell_type": "code",
   "execution_count": null,
   "id": "e00140a1",
   "metadata": {},
   "outputs": [],
   "source": [
    "%timeit rollout_jax(x0, acts, params[\"h\"])"
   ]
  }
 ],
 "metadata": {
  "kernelspec": {
   "display_name": "Python (base)",
   "language": "python",
   "name": "base"
  },
  "language_info": {
   "codemirror_mode": {
    "name": "ipython",
    "version": 3
   },
   "file_extension": ".py",
   "mimetype": "text/x-python",
   "name": "python",
   "nbconvert_exporter": "python",
   "pygments_lexer": "ipython3",
   "version": "3.9.13"
  }
 },
 "nbformat": 4,
 "nbformat_minor": 5
}
