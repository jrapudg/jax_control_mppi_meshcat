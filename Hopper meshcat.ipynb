{
 "cells": [
  {
   "cell_type": "code",
   "execution_count": null,
   "id": "0e3f5274",
   "metadata": {},
   "outputs": [],
   "source": [
    "from jax.lib import xla_bridge\n",
    "print(xla_bridge.get_backend().platform)"
   ]
  },
  {
   "cell_type": "code",
   "execution_count": null,
   "id": "8864ba1c",
   "metadata": {},
   "outputs": [],
   "source": [
    "import numpy as np\n",
    "import os\n",
    "import time\n",
    "\n",
    "import meshcat\n",
    "import meshcat.geometry as g\n",
    "import meshcat.transformations as tf\n",
    "from meshcat.animation import Animation\n",
    "\n",
    "import matplotlib.pyplot as plt\n",
    "import h5py"
   ]
  },
  {
   "cell_type": "code",
   "execution_count": null,
   "id": "d8f4d61c",
   "metadata": {},
   "outputs": [],
   "source": [
    "# Create a new visualizer\n",
    "vis = meshcat.Visualizer()"
   ]
  },
  {
   "cell_type": "code",
   "execution_count": null,
   "id": "3455adeb",
   "metadata": {},
   "outputs": [],
   "source": [
    "f2 = h5py.File(\"./costs/hopper_ref.jld2\", \"r\")"
   ]
  },
  {
   "cell_type": "code",
   "execution_count": null,
   "id": "0638bbb1",
   "metadata": {},
   "outputs": [],
   "source": [
    "q_ref = [np.array(list(qi[0])) for qi in f2[\"q\"]]"
   ]
  },
  {
   "cell_type": "code",
   "execution_count": null,
   "id": "affe72f6",
   "metadata": {},
   "outputs": [],
   "source": [
    "def visualize_hopper(vis, q, dt):\n",
    "    def kinematics(q):\n",
    "        return [q[2], q[3]]\n",
    "    \n",
    "    # body radius\n",
    "    r_body = 0.2\n",
    "    # foot radius\n",
    "    r_foot = 0.1\n",
    "\n",
    "    # leg width\n",
    "    r_leg = 0.5 * r_foot\n",
    "    \n",
    "    fps = np.ceil(1/dt)\n",
    "    anim = Animation(default_framerate=fps)\n",
    "    \n",
    "    # create body\n",
    "    vis[\"body\"].set_object(g.Sphere(r_body), \n",
    "                           g.MeshLambertMaterial(color=0xb82e3d,reflectivity=0.8))\n",
    "\n",
    "    # create foot\n",
    "    vis[\"foot\"].set_object(g.Sphere(r_foot), \n",
    "                           g.MeshLambertMaterial(color=0xb82e3d,reflectivity=0.8))\n",
    "\n",
    "    # create leg\n",
    "    n_leg = 20\n",
    "    for i in range(n_leg):\n",
    "        vis[\"leg{}\".format(i)].set_object(g.Sphere(r_leg), \n",
    "                                g.MeshPhongMaterial(color=0x3f2a32,reflectivity=0.8))\n",
    "\n",
    "    p_leg = [np.zeros(3) for i in range(n_leg)]\n",
    "    \n",
    "    for t in range(len(q)):\n",
    "        p_body = np.array([q[t][0], 0.0, q[t][1]])\n",
    "        p_foot = np.array([kinematics(q[t])[0], 0.0, kinematics(q[t])[1]])\n",
    "        div = np.array([q[t][2] - q[t][0], q[t][3] - q[t][1]])\n",
    "        div = div / np.linalg.norm(div)\n",
    "        r_range = np.linspace(0, np.sqrt((q[t][0] - q[t][2])**2 + (q[t][1] - q[t][3])**2), n_leg)\n",
    "        for i in range(n_leg):\n",
    "            p_leg[i] = [q[t][0] + r_range[i] * div[0], 0.0, q[t][1] + r_range[i] * div[1]]\n",
    "        z_shift = np.array([0.0, 0.0, r_foot])\n",
    "        with anim.at_frame(vis, t) as frame:\n",
    "            frame[\"body\"].set_transform(tf.translation_matrix(p_body + z_shift))\n",
    "            frame[\"foot\"].set_transform(tf.translation_matrix(p_foot + z_shift))\n",
    "            for i in range(n_leg):\n",
    "                frame[\"leg{}\".format(i)].set_transform(tf.translation_matrix(p_leg[i] + z_shift))\n",
    "                \n",
    "    vis.set_animation(anim)"
   ]
  },
  {
   "cell_type": "code",
   "execution_count": null,
   "id": "76812fd0",
   "metadata": {},
   "outputs": [],
   "source": [
    "#visualize_hopper(vis, q_ref, 0.1)"
   ]
  },
  {
   "cell_type": "markdown",
   "id": "0c3507a4",
   "metadata": {},
   "source": [
    "## Hopper MPPI"
   ]
  },
  {
   "cell_type": "code",
   "execution_count": null,
   "id": "ac638a92",
   "metadata": {},
   "outputs": [],
   "source": [
    "from controller.mppi import MPPI\n",
    "from dynamics.models_meshcat import hopper_dynamics"
   ]
  },
  {
   "cell_type": "code",
   "execution_count": null,
   "id": "4791b645",
   "metadata": {},
   "outputs": [],
   "source": [
    "params = {'seed':42,\n",
    "          'h':0.02,\n",
    "          'env_name':'Hopper-meshcat',\n",
    "          'sample_type':'cubic',\n",
    "          #'sample_type':'normal',\n",
    "          'n_knots':10,\n",
    "          'horizon':50,\n",
    "          'temperature':0.001,\n",
    "          'n_samples':1000,\n",
    "          'noise_sigma':[10.0, 1.0]}"
   ]
  },
  {
   "cell_type": "code",
   "execution_count": null,
   "id": "c2f0d2af",
   "metadata": {},
   "outputs": [],
   "source": [
    "controller_jax = MPPI(None, params)"
   ]
  },
  {
   "cell_type": "code",
   "execution_count": null,
   "id": "769f3d69",
   "metadata": {},
   "outputs": [],
   "source": [
    "controller_jax.reset_planner()"
   ]
  },
  {
   "cell_type": "code",
   "execution_count": null,
   "id": "fd07ec69",
   "metadata": {},
   "outputs": [],
   "source": [
    "stance_flag = True\n",
    "stance_count = 0\n",
    "\n",
    "tfinal = 2.2\n",
    "h = params[\"h\"]\n",
    "tvec = np.linspace(0,tfinal,int(np.ceil(tfinal/h))+1)\n",
    "x = q_ref[0]*1\n",
    "q_sim = []  \n",
    "costs_sim = []\n",
    "u_sim = []\n",
    "for ti in tvec:\n",
    "    u, costs = controller_jax.get_u(x)\n",
    "    x, stance_flag, stance_count = hopper_dynamics(x, u, h, stance_flag, stance_count)\n",
    "    q_sim.append(x)\n",
    "    u_sim.append(u)\n",
    "    costs_sim.append(costs)"
   ]
  },
  {
   "cell_type": "code",
   "execution_count": null,
   "id": "a0c2553c",
   "metadata": {},
   "outputs": [],
   "source": [
    "visualize_hopper(vis, q_sim, h)"
   ]
  },
  {
   "cell_type": "code",
   "execution_count": null,
   "id": "d7695733",
   "metadata": {},
   "outputs": [],
   "source": [
    "u1 = [ui[0] for ui in u_sim]\n",
    "u2 = [ui[1] for ui in u_sim]"
   ]
  },
  {
   "cell_type": "code",
   "execution_count": null,
   "id": "a55e25bb",
   "metadata": {},
   "outputs": [],
   "source": [
    "plt.plot(u1)"
   ]
  },
  {
   "cell_type": "code",
   "execution_count": null,
   "id": "e997f48d",
   "metadata": {},
   "outputs": [],
   "source": [
    "plt.plot(u2)"
   ]
  },
  {
   "cell_type": "code",
   "execution_count": null,
   "id": "b6839258",
   "metadata": {},
   "outputs": [],
   "source": [
    "tfinal = 2.2\n",
    "h = 0.02\n",
    "Nt = int(np.ceil(tfinal/h))+1\n",
    "Nx = 8\n",
    "x_ref = np.zeros((Nt,Nx))\n",
    "x_ref[:,0] = np.linspace(-1.0,1.0,Nt)\n",
    "x_ref[:,1] = 1.0 + 0.35*np.sin(2*np.pi/50.0*(np.arange(Nt))-3*np.pi/8)\n",
    "x_ref[:10,1] = 1.0\n",
    "x_ref[-51:,1] = 1.0\n",
    "x_ref[:,3] = -0.35*np.sin(2*np.pi/50.0*(np.arange(Nt)))\n",
    "x_ref[x_ref[:,3] < 0, 3] = 0\n",
    "x_ref[-50:,3] = 0"
   ]
  },
  {
   "cell_type": "code",
   "execution_count": null,
   "id": "ff2669c8",
   "metadata": {},
   "outputs": [],
   "source": [
    "plt.plot(x_ref[:,1])\n",
    "plt.plot(x_ref[:,3])"
   ]
  }
 ],
 "metadata": {
  "kernelspec": {
   "display_name": "Python (base)",
   "language": "python",
   "name": "base"
  },
  "language_info": {
   "codemirror_mode": {
    "name": "ipython",
    "version": 3
   },
   "file_extension": ".py",
   "mimetype": "text/x-python",
   "name": "python",
   "nbconvert_exporter": "python",
   "pygments_lexer": "ipython3",
   "version": "3.9.13"
  }
 },
 "nbformat": 4,
 "nbformat_minor": 5
}
