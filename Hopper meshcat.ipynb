{
 "cells": [
  {
   "cell_type": "code",
   "execution_count": 1,
   "id": "0e3f5274",
   "metadata": {},
   "outputs": [
    {
     "name": "stdout",
     "output_type": "stream",
     "text": [
      "gpu\n"
     ]
    }
   ],
   "source": [
    "from jax.lib import xla_bridge\n",
    "print(xla_bridge.get_backend().platform)"
   ]
  },
  {
   "cell_type": "code",
   "execution_count": 2,
   "id": "8864ba1c",
   "metadata": {},
   "outputs": [],
   "source": [
    "import numpy as np\n",
    "import os\n",
    "import time\n",
    "\n",
    "import meshcat\n",
    "import meshcat.geometry as g\n",
    "import meshcat.transformations as tf\n",
    "from meshcat.animation import Animation\n",
    "\n",
    "import matplotlib.pyplot as plt\n",
    "import h5py"
   ]
  },
  {
   "cell_type": "code",
   "execution_count": 3,
   "id": "d8f4d61c",
   "metadata": {},
   "outputs": [
    {
     "name": "stdout",
     "output_type": "stream",
     "text": [
      "You can open the visualizer by visiting the following URL:\n",
      "http://127.0.0.1:7004/static/\n"
     ]
    }
   ],
   "source": [
    "# Create a new visualizer\n",
    "vis = meshcat.Visualizer()"
   ]
  },
  {
   "cell_type": "code",
   "execution_count": 4,
   "id": "3455adeb",
   "metadata": {},
   "outputs": [],
   "source": [
    "f = h5py.File(\"test_traj.jld2\", \"r\")"
   ]
  },
  {
   "cell_type": "code",
   "execution_count": 5,
   "id": "0638bbb1",
   "metadata": {},
   "outputs": [],
   "source": [
    "q = [np.array(list(qi[0])) for qi in f[\"q\"]]"
   ]
  },
  {
   "cell_type": "code",
   "execution_count": 6,
   "id": "affe72f6",
   "metadata": {},
   "outputs": [],
   "source": [
    "def visualize_hopper(vis, q, dt):\n",
    "    def kinematics(q):\n",
    "        return [q[2], q[3]]\n",
    "    \n",
    "    # body radius\n",
    "    r_body = 0.2\n",
    "    # foot radius\n",
    "    r_foot = 0.1\n",
    "\n",
    "    # leg width\n",
    "    r_leg = 0.5 * r_foot\n",
    "    \n",
    "    fps = np.ceil(1/dt)\n",
    "    anim = Animation(default_framerate=fps)\n",
    "    \n",
    "    # create body\n",
    "    vis[\"body\"].set_object(g.Sphere(r_body), \n",
    "                           g.MeshLambertMaterial(color=0x57dd73,reflectivity=0.8))\n",
    "\n",
    "    # create foot\n",
    "    vis[\"foot\"].set_object(g.Sphere(r_foot), \n",
    "                           g.MeshLambertMaterial(color=0x9d37e6,reflectivity=0.8))\n",
    "\n",
    "    # create leg\n",
    "    n_leg = 100\n",
    "    for i in range(n_leg):\n",
    "        vis[\"leg{}\".format(i)].set_object(g.Sphere(r_leg), \n",
    "                                g.MeshPhongMaterial(color=0x3f2a32,reflectivity=0.8))\n",
    "\n",
    "    p_leg = [np.zeros(3) for i in range(n_leg)]\n",
    "    \n",
    "    for t in range(len(q)):\n",
    "        p_body = np.array([q[t][0], 0.0, q[t][1]])\n",
    "        p_foot = np.array([kinematics(q[t])[0], 0.0, kinematics(q[t])[1]])\n",
    "        div = np.array([q[t][2] - q[t][0], q[t][3] - q[t][1]])\n",
    "        div = div / np.linalg.norm(div)\n",
    "        r_range = np.linspace(0, np.sqrt((q[t][0] - q[t][2])**2 + (q[t][1] - q[t][3])**2), n_leg)\n",
    "        for i in range(n_leg):\n",
    "            p_leg[i] = [q[t][0] + r_range[i] * div[0], 0.0, q[t][1] + r_range[i] * div[1]]\n",
    "        z_shift = np.array([0.0, 0.0, r_foot])\n",
    "        with anim.at_frame(vis, t) as frame:\n",
    "            frame[\"body\"].set_transform(tf.translation_matrix(p_body + z_shift))\n",
    "            frame[\"foot\"].set_transform(tf.translation_matrix(p_foot + z_shift))\n",
    "            for i in range(n_leg):\n",
    "                frame[\"leg{}\".format(i)].set_transform(tf.translation_matrix(p_leg[i] + z_shift))\n",
    "                \n",
    "    vis.set_animation(anim)"
   ]
  },
  {
   "cell_type": "code",
   "execution_count": 7,
   "id": "76812fd0",
   "metadata": {},
   "outputs": [],
   "source": [
    "visualize_hopper(vis, q, 0.1)"
   ]
  },
  {
   "cell_type": "markdown",
   "id": "575418a0",
   "metadata": {},
   "source": [
    "## Jax dynamics"
   ]
  },
  {
   "cell_type": "code",
   "execution_count": 8,
   "id": "16dc3e43",
   "metadata": {},
   "outputs": [],
   "source": [
    "import jax.numpy as jnp\n",
    "import jax"
   ]
  },
  {
   "cell_type": "code",
   "execution_count": 50,
   "id": "471c0c3b",
   "metadata": {},
   "outputs": [],
   "source": [
    "x = np.random.random(8)\n",
    "x[3] = 1\n",
    "u = np.random.random(2)"
   ]
  },
  {
   "cell_type": "code",
   "execution_count": 51,
   "id": "ec900928",
   "metadata": {},
   "outputs": [],
   "source": [
    "x = jnp.array(x)\n",
    "u = jnp.array(u)"
   ]
  },
  {
   "cell_type": "code",
   "execution_count": 52,
   "id": "c5a37710",
   "metadata": {},
   "outputs": [],
   "source": [
    "GRAVITY = 9.8 # m/s\n",
    "M1 = 1.0\n",
    "M2 = 0.5\n",
    "\n",
    "M = jnp.array([[M1, 0, 0, 0],\n",
    "               [0, M1, 0, 0], \n",
    "               [0, 0, M2, 0], \n",
    "               [0, 0, 0, M2]])\n",
    "\n",
    "M_inv = jnp.array([[1/M1, 0, 0, 0],\n",
    "                   [0, 1/M1, 0, 0], \n",
    "                   [0, 0, 1/M2, 0], \n",
    "                   [0, 0, 0, 1/M2]])\n",
    "\n",
    "def flight_dynamics(x,u):\n",
    "    rb = x[0:2]\n",
    "    rf = x[2:4]\n",
    "    v = x[4:8]\n",
    "    \n",
    "    l1 = (rb[0]-rf[0])/jnp.linalg.norm(rb-rf)\n",
    "    l2 = (rb[1]-rf[1])/jnp.linalg.norm(rb-rf)\n",
    "      \n",
    "    B = jnp.array([[l1, l2],\n",
    "                   [l2, -l1],\n",
    "                   [-l1, -l2],\n",
    "                   [-l2, l1]])\n",
    "    v_dot = jnp.array([0, -GRAVITY, 0, GRAVITY]) + jnp.dot(jnp.dot(M_inv,B), u)\n",
    "    x_dot = jnp.concatenate([v, v_dot])\n",
    "    return x_dot\n",
    "\n",
    "def stance_dynamics(x,u):\n",
    "    rb = x[0:2]\n",
    "    rf = x[2:4]\n",
    "    v = x[4:8]\n",
    "    \n",
    "    l1 = (rb[0]-rf[0])/jnp.linalg.norm(rb-rf)\n",
    "    l2 = (rb[1]-rf[1])/jnp.linalg.norm(rb-rf)\n",
    "    \n",
    "    B = jnp.array([[l1, l2],\n",
    "                   [l2, -l1],\n",
    "                   [0, 0],\n",
    "                   [0, 0]])\n",
    "    v_dot = jnp.array([0, -GRAVITY, 0, 0]) + jnp.dot(jnp.dot(M_inv,B), u)\n",
    "    x_dot = jnp.concatenate([v, v_dot])\n",
    "    return x_dot"
   ]
  },
  {
   "cell_type": "code",
   "execution_count": 40,
   "id": "46794fce",
   "metadata": {},
   "outputs": [],
   "source": [
    "def rk4(dynamics, x, u, h):\n",
    "    # RK4 integration with zero-order hold on u\n",
    "    f1 = dynamics(x, u)\n",
    "    f2 = dynamics(x + 0.5 * h * f1, u)\n",
    "    f3 = dynamics(x + 0.5 * h * f2, u)\n",
    "    f4 = dynamics(x + h * f3, u)\n",
    "    return x + (h / 6.0) * (f1 + 2 * f2 + 2 * f3 + f4)"
   ]
  },
  {
   "cell_type": "code",
   "execution_count": 41,
   "id": "f604ee74",
   "metadata": {},
   "outputs": [],
   "source": [
    "def flight_dynamics_rk4(x, u, h):\n",
    "    return rk4(flight_dynamics, x, u, h)\n",
    "\n",
    "def stance_dynamics_rk4(x, u, h):\n",
    "    return rk4(stance_dynamics, x, u, h)  \n",
    "\n",
    "def jump_map(x):\n",
    "    # Assume the foot experiences inelastic collisions\n",
    "    return jnp.array([*x[0:6], 0, 0])"
   ]
  },
  {
   "cell_type": "code",
   "execution_count": 14,
   "id": "809eee05",
   "metadata": {},
   "outputs": [],
   "source": [
    "def guard_function(x):\n",
    "    rf_y = x[3]\n",
    "    index_1 = jnp.where(rf_y < 0, 2, 0) # 2 -> collision\n",
    "    index_2 = jnp.where(rf_y > 0, 1, 0) # 1 -> flight, 0 -> stance\n",
    "    index = index_1 + index_2 \n",
    "    return index"
   ]
  },
  {
   "cell_type": "code",
   "execution_count": 15,
   "id": "cf17ad68",
   "metadata": {},
   "outputs": [],
   "source": [
    "def collision_function(x, u, h):\n",
    "    x = jnp.array([*x[0:3], 0, *x[4:]])\n",
    "    x = jump_map(x)\n",
    "    return stance_dynamics_rk4(x, u, h)"
   ]
  },
  {
   "cell_type": "code",
   "execution_count": 45,
   "id": "6518bf16",
   "metadata": {},
   "outputs": [],
   "source": [
    "def hopper_dynamics(x, u, h):\n",
    "    flag = guard_function(x)\n",
    "    return jax.lax.switch(flag, \n",
    "                          [stance_dynamics_rk4, flight_dynamics_rk4, collision_function], \n",
    "                          x, u, h)"
   ]
  },
  {
   "cell_type": "code",
   "execution_count": 17,
   "id": "295a9c4a",
   "metadata": {},
   "outputs": [],
   "source": [
    "def hopper_cost(x, u):\n",
    "    rb = x[0:2]\n",
    "    rf = x[2:4]\n",
    "    v = x[4:8]\n",
    "    \n",
    "    cost = rb[0] ** 2 + rf[0] ** 2 + 0.2 * jnp.dot(v, v) + 0.2 * jnp.dot(u, u) #+ (rb[1] - 1.0) ** 2 + rb[1] ** 2\n",
    "    return cost  "
   ]
  },
  {
   "cell_type": "code",
   "execution_count": 18,
   "id": "b7d813e9",
   "metadata": {},
   "outputs": [],
   "source": [
    "from utils.env_utils import step"
   ]
  },
  {
   "cell_type": "code",
   "execution_count": 19,
   "id": "59166c7a",
   "metadata": {},
   "outputs": [],
   "source": [
    "def step_wrapper_hopper(carry, action):\n",
    "    obs = carry[0]\n",
    "    h = carry[1]\n",
    "    next_obs = step(obs, action, hopper_dynamics, h)\n",
    "    cost = hopper_cost(obs, action)\n",
    "    carry = (next_obs, h)\n",
    "    output = (next_obs, cost)\n",
    "    return carry, output"
   ]
  },
  {
   "cell_type": "code",
   "execution_count": 20,
   "id": "884296ff",
   "metadata": {},
   "outputs": [],
   "source": [
    "from jax_wrappers.rollout_functions import load_rollout_jax"
   ]
  },
  {
   "cell_type": "code",
   "execution_count": 21,
   "id": "3023e2c2",
   "metadata": {},
   "outputs": [],
   "source": [
    "n_samples = 1000\n",
    "horizon = 20\n",
    "act_dim = 2"
   ]
  },
  {
   "cell_type": "code",
   "execution_count": 22,
   "id": "a7f4e89b",
   "metadata": {},
   "outputs": [],
   "source": [
    "rng = np.random.default_rng(0)"
   ]
  },
  {
   "cell_type": "code",
   "execution_count": 23,
   "id": "a4cd4598",
   "metadata": {},
   "outputs": [],
   "source": [
    "size = (n_samples, horizon, act_dim)\n",
    "acts = rng.normal(size=size)"
   ]
  },
  {
   "cell_type": "code",
   "execution_count": 24,
   "id": "abafb125",
   "metadata": {},
   "outputs": [],
   "source": [
    "rollout_jax = load_rollout_jax(step_wrapper_hopper)"
   ]
  },
  {
   "cell_type": "code",
   "execution_count": 25,
   "id": "2d91abee",
   "metadata": {},
   "outputs": [
    {
     "name": "stdout",
     "output_type": "stream",
     "text": [
      "1.23 ms ± 256 µs per loop (mean ± std. dev. of 7 runs, 1 loop each)\n"
     ]
    }
   ],
   "source": [
    "%timeit rollout_jax(x, acts, 0.1)"
   ]
  },
  {
   "cell_type": "markdown",
   "id": "0c3507a4",
   "metadata": {},
   "source": [
    "## Hopper MPPI"
   ]
  },
  {
   "cell_type": "code",
   "execution_count": 26,
   "id": "ac638a92",
   "metadata": {},
   "outputs": [],
   "source": [
    "from controller.mppi import MPPI"
   ]
  },
  {
   "cell_type": "code",
   "execution_count": 32,
   "id": "4791b645",
   "metadata": {},
   "outputs": [],
   "source": [
    "params = {'seed':42,\n",
    "          'h':0.05,\n",
    "          'env_name':'Hopper-meshcat',\n",
    "          #'sample_type':'cubic',\n",
    "          'sample_type':'normal',\n",
    "          'n_knots':15,\n",
    "          'horizon':200,\n",
    "          'temperature':1.0,\n",
    "          'n_samples':250,\n",
    "          'noise_sigma':5.0}"
   ]
  },
  {
   "cell_type": "code",
   "execution_count": 33,
   "id": "c2f0d2af",
   "metadata": {},
   "outputs": [],
   "source": [
    "controller_jax = MPPI(None, params)"
   ]
  },
  {
   "cell_type": "code",
   "execution_count": 34,
   "id": "769f3d69",
   "metadata": {},
   "outputs": [],
   "source": [
    "controller_jax.reset_planner()"
   ]
  },
  {
   "cell_type": "code",
   "execution_count": 35,
   "id": "fd07ec69",
   "metadata": {},
   "outputs": [],
   "source": [
    "x0 = np.array([0, 1.0, 0, 0, 0, 0, 0, 0])\n",
    "tfinal = 10\n",
    "tvec = np.linspace(0,tfinal,201)\n",
    "h = params[\"h\"]\n",
    "x = x0*1\n",
    "q_sim = []\n",
    "for ti in tvec:\n",
    "    u = controller_jax.get_action(x)\n",
    "    x = hopper_dynamics(x, u, h)\n",
    "    q_sim.append(x[0:4])"
   ]
  },
  {
   "cell_type": "code",
   "execution_count": 36,
   "id": "a0c2553c",
   "metadata": {},
   "outputs": [],
   "source": [
    "visualize_hopper(vis, q_sim, h)"
   ]
  },
  {
   "cell_type": "code",
   "execution_count": null,
   "id": "d10f93da",
   "metadata": {},
   "outputs": [],
   "source": []
  }
 ],
 "metadata": {
  "kernelspec": {
   "display_name": "Python (base)",
   "language": "python",
   "name": "base"
  },
  "language_info": {
   "codemirror_mode": {
    "name": "ipython",
    "version": 3
   },
   "file_extension": ".py",
   "mimetype": "text/x-python",
   "name": "python",
   "nbconvert_exporter": "python",
   "pygments_lexer": "ipython3",
   "version": "3.9.13"
  }
 },
 "nbformat": 4,
 "nbformat_minor": 5
}
