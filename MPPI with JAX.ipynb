{
 "cells": [
  {
   "cell_type": "code",
   "execution_count": 1,
   "id": "4764df25",
   "metadata": {},
   "outputs": [],
   "source": [
    "from IPython.display import clear_output\n",
    "import matplotlib.pyplot as plt"
   ]
  },
  {
   "cell_type": "code",
   "execution_count": 2,
   "id": "67ebf461",
   "metadata": {},
   "outputs": [],
   "source": [
    "from utils.env_utils import create_env\n",
    "from controller.mppi import MPPI"
   ]
  },
  {
   "cell_type": "code",
   "execution_count": 13,
   "id": "f8fcdc07",
   "metadata": {},
   "outputs": [],
   "source": [
    "params = {'seed':42,\n",
    "          'h':0.02,\n",
    "          #'env_name':'Pendulum-v1',\n",
    "          #'env_name':'CartPole-v1',\n",
    "          #'env_name':'Acrobot-v1',\n",
    "          'env_name':'Acrobot-v1.1',\n",
    "          'render_mode':'rgb_array',\n",
    "          'sample_type':'cubic',\n",
    "          #'sample_type':'normal',\n",
    "          'n_knots':30,\n",
    "          'horizon':60,\n",
    "          'temperature':1.0,\n",
    "          'n_samples':1000,\n",
    "          'noise_sigma':0.6}"
   ]
  },
  {
   "cell_type": "code",
   "execution_count": 14,
   "id": "ae48e6c1",
   "metadata": {},
   "outputs": [],
   "source": [
    "env = create_env(params[\"env_name\"], \n",
    "                 seed=params['seed'], \n",
    "                 dt=params['h'], \n",
    "                 render_mode=params['render_mode'])"
   ]
  },
  {
   "cell_type": "code",
   "execution_count": 15,
   "id": "1aef30d8",
   "metadata": {},
   "outputs": [],
   "source": [
    "controller_jax = MPPI(env, params)"
   ]
  },
  {
   "cell_type": "code",
   "execution_count": 16,
   "id": "cdb60f9f",
   "metadata": {},
   "outputs": [],
   "source": [
    "controller_jax.reset_planner()\n",
    "obs, _ = env.reset()\n",
    "done = False"
   ]
  },
  {
   "cell_type": "code",
   "execution_count": null,
   "id": "a55d867f",
   "metadata": {
    "scrolled": false
   },
   "outputs": [
    {
     "data": {
      "image/png": "[encoded data removed]",
      "text/plain": [
       "<Figure size 640x480 with 1 Axes>"
      ]
     },
     "metadata": {},
     "output_type": "display_data"
    }
   ],
   "source": [
    "while not done:\n",
    "    u = controller_jax.get_u(obs.reshape((-1,1)))\n",
    "    obs, _, done, _, _ = env.step(u)\n",
    "    clear_output(wait=True)\n",
    "    plt.imshow(env.render())\n",
    "    plt.show()\n",
    "env.close()"
   ]
  },
  {
   "cell_type": "code",
   "execution_count": null,
   "id": "81054889",
   "metadata": {},
   "outputs": [],
   "source": []
  }
 ],
 "metadata": {
  "kernelspec": {
   "display_name": "Python (base)",
   "language": "python",
   "name": "base"
  },
  "language_info": {
   "codemirror_mode": {
    "name": "ipython",
    "version": 3
   },
   "file_extension": ".py",
   "mimetype": "text/x-python",
   "name": "python",
   "nbconvert_exporter": "python",
   "pygments_lexer": "ipython3",
   "version": "3.9.13"
  }
 },
 "nbformat": 4,
 "nbformat_minor": 5
}
