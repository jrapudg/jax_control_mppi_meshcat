{
 "cells": [
  {
   "cell_type": "code",
   "execution_count": 5,
   "id": "0e3f5274",
   "metadata": {},
   "outputs": [
    {
     "name": "stdout",
     "output_type": "stream",
     "text": [
      "gpu\n"
     ]
    }
   ],
   "source": [
    "from jax.lib import xla_bridge\n",
    "print(xla_bridge.get_backend().platform)"
   ]
  },
  {
   "cell_type": "code",
   "execution_count": 6,
   "id": "8864ba1c",
   "metadata": {},
   "outputs": [],
   "source": [
    "import numpy as np\n",
    "import os\n",
    "import time\n",
    "\n",
    "import meshcat\n",
    "import meshcat.geometry as g\n",
    "import meshcat.transformations as tf\n",
    "from meshcat.animation import Animation\n",
    "\n",
    "import matplotlib.pyplot as plt\n",
    "import h5py"
   ]
  },
  {
   "cell_type": "code",
   "execution_count": 7,
   "id": "d8f4d61c",
   "metadata": {},
   "outputs": [
    {
     "name": "stdout",
     "output_type": "stream",
     "text": [
      "You can open the visualizer by visiting the following URL:\n",
      "http://127.0.0.1:7005/static/\n"
     ]
    }
   ],
   "source": [
    "# Create a new visualizer\n",
    "vis = meshcat.Visualizer()"
   ]
  },
  {
   "cell_type": "code",
   "execution_count": 255,
   "id": "6dd3ac6d",
   "metadata": {},
   "outputs": [],
   "source": [
    "vis.delete()"
   ]
  },
  {
   "cell_type": "code",
   "execution_count": 256,
   "id": "6be2f14a",
   "metadata": {},
   "outputs": [],
   "source": [
    "hinge = g.Cylinder(thick/10, thick/10)"
   ]
  },
  {
   "cell_type": "code",
   "execution_count": 257,
   "id": "70c7d3cd",
   "metadata": {},
   "outputs": [],
   "source": [
    "m1,m2 = [1, 1]\n",
    "l1,l2 = [1, 1]\n",
    "J1,J2 = [1, 1]\n",
    "thick = 0.5"
   ]
  },
  {
   "cell_type": "code",
   "execution_count": 271,
   "id": "0b0602a1",
   "metadata": {},
   "outputs": [],
   "source": [
    "model = {\"m1\":1,\n",
    "         \"m2\":1,\n",
    "         \"l1\":1,\n",
    "         \"l2\":1,\n",
    "         \"J1\":1,\n",
    "         \"J2\":1}"
   ]
  },
  {
   "cell_type": "code",
   "execution_count": 305,
   "id": "399f574a",
   "metadata": {},
   "outputs": [],
   "source": [
    "def visualize_acrobat(vis, model, q, dt):\n",
    "    vis.delete()\n",
    "    l1 = model[\"l1\"]\n",
    "    l2 = model[\"l2\"]\n",
    "    m1 = model[\"m1\"]\n",
    "    m2 = model[\"m2\"]\n",
    "\n",
    "    joint1 = vis[\"joint1\"]\n",
    "    link1 = joint1[\"link1\"]\n",
    "    joint2 = link1[\"joint2\"]\n",
    "    link2 = joint2[\"link2\"]\n",
    "\n",
    "    link1_box = g.Box([thick/8, thick/12, l1])\n",
    "    link2_box = g.Box([thick/8, thick/12, l2])\n",
    "\n",
    "    mat1 = g.MeshPhongMaterial(color=0x3f2a32, reflectivity=0.8)\n",
    "    mat2 = g.MeshPhongMaterial(color=0x9d37e6, reflectivity=0.8)\n",
    "    mat3 = g.MeshPhongMaterial(color=0x3d34e5, reflectivity=0.8)\n",
    "\n",
    "    joint1.set_object(hinge, mat1)\n",
    "    joint1.set_transform(tf.compose_matrix(angles=[0,np.pi,0]))\n",
    "    link1.set_object(link1_box, mat2)\n",
    "    link1.set_transform(tf.translation_matrix([0,0,l1/2]))\n",
    "    joint2.set_object(hinge, mat1) \n",
    "    joint2.set_transform(tf.compose_matrix(translate=[0,0,l1/2]))\n",
    "    trans_link2 = tf.concatenate_matrices(*[tf.rotation_matrix(0, [0, 1, 0]), tf.translation_matrix([0,0,l1/2])])\n",
    "    link2.set_object(link2_box, mat3)\n",
    "    link2.set_transform(trans_link2)\n",
    "\n",
    "    fps = np.ceil(1/dt)\n",
    "    anim = Animation(default_framerate=fps)\n",
    "    \n",
    "    for t in range(len(q)):\n",
    "        with anim.at_frame(vis, t) as frame:\n",
    "            frame[\"joint1\"].set_transform(tf.rotation_matrix(q[t][0], [0, 1, 0]))\n",
    "            trans_link2 = tf.concatenate_matrices(*[tf.translation_matrix([0,0,l1/2]),\n",
    "                                                    tf.rotation_matrix(q[t][1], [0, 1, 0])])\n",
    "            frame[\"joint1/link1/joint2\"].set_transform(trans_link2)\n",
    "    vis.set_animation(anim)"
   ]
  },
  {
   "cell_type": "code",
   "execution_count": 306,
   "id": "422d1f72",
   "metadata": {},
   "outputs": [],
   "source": [
    "q = [[np.pi*np.sin(2*np.pi*t), 0] for t in np.linspace(0,2, 41)]"
   ]
  },
  {
   "cell_type": "code",
   "execution_count": 307,
   "id": "2246c1be",
   "metadata": {},
   "outputs": [],
   "source": [
    "visualize_acrobat(vis, model, q, 0.05)"
   ]
  },
  {
   "cell_type": "code",
   "execution_count": 4,
   "id": "e206bc74",
   "metadata": {},
   "outputs": [
    {
     "ename": "SyntaxError",
     "evalue": "invalid syntax (1950176406.py, line 1)",
     "output_type": "error",
     "traceback": [
      "\u001b[0;36m  File \u001b[0;32m\"/tmp/ipykernel_1236916/1950176406.py\"\u001b[0;36m, line \u001b[0;32m1\u001b[0m\n\u001b[0;31m    function dynamics(model::Acrobot, x, u)\u001b[0m\n\u001b[0m             ^\u001b[0m\n\u001b[0;31mSyntaxError\u001b[0m\u001b[0;31m:\u001b[0m invalid syntax\n"
     ]
    }
   ],
   "source": [
    "def dynamics(model::Acrobot, x, u)\n",
    "    g = 9.81\n",
    "    l1 = model[\"l1\"]\n",
    "    l2 = model[\"l2\"]\n",
    "    m1 = model[\"m1\"]\n",
    "    m2 = model[\"m2\"]\n",
    "    J1 = model[\"J1\"]\n",
    "    J2 = model[\"J2\"]\n",
    "    \n",
    "    theta1, theta2 = x[0], x[1]\n",
    "    d_theta1, d_thet2 = x[2], x[3]\n",
    "    \n",
    "    \n",
    "    s1,c1 = sincos(θ1)\n",
    "    s2,c2 = sincos(θ2)\n",
    "    c12 = cos(θ1 + θ2)\n",
    "\n",
    "    # mass matrix\n",
    "    m11 = m1*l1^2 + J1 + m2*(l1^2 + l2^2 + 2*l1*l2*c2) + J2\n",
    "    m12 = m2*(l2^2 + l1*l2*c2 + J2)\n",
    "    m22 = l2^2*m2 + J2\n",
    "    M = @SMatrix [m11 m12; m12 m22]\n",
    "\n",
    "    # bias term\n",
    "    tmp = l1*l2*m2*s2\n",
    "    b1 = -(2 * θ1dot * θ2dot + θ2dot^2)*tmp\n",
    "    b2 = tmp * θ1dot^2\n",
    "    B = @SVector [b1, b2]\n",
    "\n",
    "    # friction\n",
    "    c = 1.0\n",
    "    C = @SVector [c*θ1dot, c*θ2dot]\n",
    "\n",
    "    # gravity term\n",
    "    g1 = ((m1 + m2)*l2*c1 + m2*l2*c12) * g\n",
    "    g2 = m2*l2*c12*g\n",
    "    G = @SVector [g1, g2]\n",
    "\n",
    "    # equations of motion\n",
    "    τ = @SVector [0, u[1]]\n",
    "    θddot = M\\(τ - B - G - C)\n",
    "    return @SVector [θ1dot, θ2dot, θddot[1], θddot[2]]"
   ]
  },
  {
   "cell_type": "code",
   "execution_count": 6,
   "id": "affe72f6",
   "metadata": {},
   "outputs": [],
   "source": [
    "def visualize_acrobot(vis, q, dt):\n",
    "    \n",
    "    \n",
    "    for t in range(len(q)):\n",
    "        p_body = np.array([q[t][0], 0.0, q[t][1]])\n",
    "        p_foot = np.array([kinematics(q[t])[0], 0.0, kinematics(q[t])[1]])\n",
    "        div = np.array([q[t][2] - q[t][0], q[t][3] - q[t][1]])\n",
    "        div = div / np.linalg.norm(div)\n",
    "        r_range = np.linspace(0, np.sqrt((q[t][0] - q[t][2])**2 + (q[t][1] - q[t][3])**2), n_leg)\n",
    "        for i in range(n_leg):\n",
    "            p_leg[i] = [q[t][0] + r_range[i] * div[0], 0.0, q[t][1] + r_range[i] * div[1]]\n",
    "        z_shift = np.array([0.0, 0.0, r_foot])\n",
    "        with anim.at_frame(vis, t) as frame:\n",
    "            frame[\"body\"].set_transform(tf.translation_matrix(p_body + z_shift))\n",
    "            frame[\"foot\"].set_transform(tf.translation_matrix(p_foot + z_shift))\n",
    "            for i in range(n_leg):\n",
    "                frame[\"leg{}\".format(i)].set_transform(tf.translation_matrix(p_leg[i] + z_shift))\n",
    "                \n",
    "    vis.set_animation(anim)"
   ]
  },
  {
   "cell_type": "code",
   "execution_count": 7,
   "id": "76812fd0",
   "metadata": {},
   "outputs": [],
   "source": [
    "visualize_hopper(vis, q, 0.1)"
   ]
  },
  {
   "cell_type": "markdown",
   "id": "575418a0",
   "metadata": {},
   "source": [
    "## Jax dynamics"
   ]
  },
  {
   "cell_type": "code",
   "execution_count": 8,
   "id": "16dc3e43",
   "metadata": {},
   "outputs": [],
   "source": [
    "import jax.numpy as jnp\n",
    "import jax"
   ]
  },
  {
   "cell_type": "code",
   "execution_count": 50,
   "id": "471c0c3b",
   "metadata": {},
   "outputs": [],
   "source": [
    "x = np.random.random(8)\n",
    "x[3] = 1\n",
    "u = np.random.random(2)"
   ]
  },
  {
   "cell_type": "code",
   "execution_count": 51,
   "id": "ec900928",
   "metadata": {},
   "outputs": [],
   "source": [
    "x = jnp.array(x)\n",
    "u = jnp.array(u)"
   ]
  },
  {
   "cell_type": "code",
   "execution_count": 52,
   "id": "c5a37710",
   "metadata": {},
   "outputs": [],
   "source": [
    "GRAVITY = 9.8 # m/s\n",
    "M1 = 1.0\n",
    "M2 = 0.5\n",
    "\n",
    "M = jnp.array([[M1, 0, 0, 0],\n",
    "               [0, M1, 0, 0], \n",
    "               [0, 0, M2, 0], \n",
    "               [0, 0, 0, M2]])\n",
    "\n",
    "M_inv = jnp.array([[1/M1, 0, 0, 0],\n",
    "                   [0, 1/M1, 0, 0], \n",
    "                   [0, 0, 1/M2, 0], \n",
    "                   [0, 0, 0, 1/M2]])\n",
    "\n",
    "def flight_dynamics(x,u):\n",
    "    rb = x[0:2]\n",
    "    rf = x[2:4]\n",
    "    v = x[4:8]\n",
    "    \n",
    "    l1 = (rb[0]-rf[0])/jnp.linalg.norm(rb-rf)\n",
    "    l2 = (rb[1]-rf[1])/jnp.linalg.norm(rb-rf)\n",
    "      \n",
    "    B = jnp.array([[l1, l2],\n",
    "                   [l2, -l1],\n",
    "                   [-l1, -l2],\n",
    "                   [-l2, l1]])\n",
    "    v_dot = jnp.array([0, -GRAVITY, 0, GRAVITY]) + jnp.dot(jnp.dot(M_inv,B), u)\n",
    "    x_dot = jnp.concatenate([v, v_dot])\n",
    "    return x_dot\n",
    "\n",
    "def stance_dynamics(x,u):\n",
    "    rb = x[0:2]\n",
    "    rf = x[2:4]\n",
    "    v = x[4:8]\n",
    "    \n",
    "    l1 = (rb[0]-rf[0])/jnp.linalg.norm(rb-rf)\n",
    "    l2 = (rb[1]-rf[1])/jnp.linalg.norm(rb-rf)\n",
    "    \n",
    "    B = jnp.array([[l1, l2],\n",
    "                   [l2, -l1],\n",
    "                   [0, 0],\n",
    "                   [0, 0]])\n",
    "    v_dot = jnp.array([0, -GRAVITY, 0, 0]) + jnp.dot(jnp.dot(M_inv,B), u)\n",
    "    x_dot = jnp.concatenate([v, v_dot])\n",
    "    return x_dot"
   ]
  },
  {
   "cell_type": "code",
   "execution_count": 40,
   "id": "46794fce",
   "metadata": {},
   "outputs": [],
   "source": [
    "def rk4(dynamics, x, u, h):\n",
    "    # RK4 integration with zero-order hold on u\n",
    "    f1 = dynamics(x, u)\n",
    "    f2 = dynamics(x + 0.5 * h * f1, u)\n",
    "    f3 = dynamics(x + 0.5 * h * f2, u)\n",
    "    f4 = dynamics(x + h * f3, u)\n",
    "    return x + (h / 6.0) * (f1 + 2 * f2 + 2 * f3 + f4)"
   ]
  },
  {
   "cell_type": "code",
   "execution_count": 41,
   "id": "f604ee74",
   "metadata": {},
   "outputs": [],
   "source": [
    "def flight_dynamics_rk4(x, u, h):\n",
    "    return rk4(flight_dynamics, x, u, h)\n",
    "\n",
    "def stance_dynamics_rk4(x, u, h):\n",
    "    return rk4(stance_dynamics, x, u, h)  \n",
    "\n",
    "def jump_map(x):\n",
    "    # Assume the foot experiences inelastic collisions\n",
    "    return jnp.array([*x[0:6], 0, 0])"
   ]
  },
  {
   "cell_type": "code",
   "execution_count": 14,
   "id": "809eee05",
   "metadata": {},
   "outputs": [],
   "source": [
    "def guard_function(x):\n",
    "    rf_y = x[3]\n",
    "    index_1 = jnp.where(rf_y < 0, 2, 0) # 2 -> collision\n",
    "    index_2 = jnp.where(rf_y > 0, 1, 0) # 1 -> flight, 0 -> stance\n",
    "    index = index_1 + index_2 \n",
    "    return index"
   ]
  },
  {
   "cell_type": "code",
   "execution_count": 15,
   "id": "cf17ad68",
   "metadata": {},
   "outputs": [],
   "source": [
    "def collision_function(x, u, h):\n",
    "    x = jnp.array([*x[0:3], 0, *x[4:]])\n",
    "    x = jump_map(x)\n",
    "    return stance_dynamics_rk4(x, u, h)"
   ]
  },
  {
   "cell_type": "code",
   "execution_count": 45,
   "id": "6518bf16",
   "metadata": {},
   "outputs": [],
   "source": [
    "def hopper_dynamics(x, u, h):\n",
    "    flag = guard_function(x)\n",
    "    return jax.lax.switch(flag, \n",
    "                          [stance_dynamics_rk4, flight_dynamics_rk4, collision_function], \n",
    "                          x, u, h)"
   ]
  },
  {
   "cell_type": "code",
   "execution_count": 17,
   "id": "295a9c4a",
   "metadata": {},
   "outputs": [],
   "source": [
    "def hopper_cost(x, u):\n",
    "    rb = x[0:2]\n",
    "    rf = x[2:4]\n",
    "    v = x[4:8]\n",
    "    \n",
    "    cost = rb[0] ** 2 + rf[0] ** 2 + 0.2 * jnp.dot(v, v) + 0.2 * jnp.dot(u, u) #+ (rb[1] - 1.0) ** 2 + rb[1] ** 2\n",
    "    return cost  "
   ]
  },
  {
   "cell_type": "code",
   "execution_count": 18,
   "id": "b7d813e9",
   "metadata": {},
   "outputs": [],
   "source": [
    "from utils.env_utils import step"
   ]
  },
  {
   "cell_type": "code",
   "execution_count": 19,
   "id": "59166c7a",
   "metadata": {},
   "outputs": [],
   "source": [
    "def step_wrapper_hopper(carry, action):\n",
    "    obs = carry[0]\n",
    "    h = carry[1]\n",
    "    next_obs = step(obs, action, hopper_dynamics, h)\n",
    "    cost = hopper_cost(obs, action)\n",
    "    carry = (next_obs, h)\n",
    "    output = (next_obs, cost)\n",
    "    return carry, output"
   ]
  },
  {
   "cell_type": "code",
   "execution_count": 20,
   "id": "884296ff",
   "metadata": {},
   "outputs": [],
   "source": [
    "from jax_wrappers.rollout_functions import load_rollout_jax"
   ]
  },
  {
   "cell_type": "code",
   "execution_count": 21,
   "id": "3023e2c2",
   "metadata": {},
   "outputs": [],
   "source": [
    "n_samples = 1000\n",
    "horizon = 20\n",
    "act_dim = 2"
   ]
  },
  {
   "cell_type": "code",
   "execution_count": 22,
   "id": "a7f4e89b",
   "metadata": {},
   "outputs": [],
   "source": [
    "rng = np.random.default_rng(0)"
   ]
  },
  {
   "cell_type": "code",
   "execution_count": 23,
   "id": "a4cd4598",
   "metadata": {},
   "outputs": [],
   "source": [
    "size = (n_samples, horizon, act_dim)\n",
    "acts = rng.normal(size=size)"
   ]
  },
  {
   "cell_type": "code",
   "execution_count": 24,
   "id": "abafb125",
   "metadata": {},
   "outputs": [],
   "source": [
    "rollout_jax = load_rollout_jax(step_wrapper_hopper)"
   ]
  },
  {
   "cell_type": "code",
   "execution_count": 25,
   "id": "2d91abee",
   "metadata": {},
   "outputs": [
    {
     "name": "stdout",
     "output_type": "stream",
     "text": [
      "1.23 ms ± 256 µs per loop (mean ± std. dev. of 7 runs, 1 loop each)\n"
     ]
    }
   ],
   "source": [
    "%timeit rollout_jax(x, acts, 0.1)"
   ]
  },
  {
   "cell_type": "markdown",
   "id": "0c3507a4",
   "metadata": {},
   "source": [
    "## Hopper MPPI"
   ]
  },
  {
   "cell_type": "code",
   "execution_count": 26,
   "id": "ac638a92",
   "metadata": {},
   "outputs": [],
   "source": [
    "from controller.mppi import MPPI"
   ]
  },
  {
   "cell_type": "code",
   "execution_count": 32,
   "id": "4791b645",
   "metadata": {},
   "outputs": [],
   "source": [
    "params = {'seed':42,\n",
    "          'h':0.05,\n",
    "          'env_name':'Hopper-meshcat',\n",
    "          #'sample_type':'cubic',\n",
    "          'sample_type':'normal',\n",
    "          'n_knots':15,\n",
    "          'horizon':200,\n",
    "          'temperature':1.0,\n",
    "          'n_samples':250,\n",
    "          'noise_sigma':5.0}"
   ]
  },
  {
   "cell_type": "code",
   "execution_count": 33,
   "id": "c2f0d2af",
   "metadata": {},
   "outputs": [],
   "source": [
    "controller_jax = MPPI(None, params)"
   ]
  },
  {
   "cell_type": "code",
   "execution_count": 34,
   "id": "769f3d69",
   "metadata": {},
   "outputs": [],
   "source": [
    "controller_jax.reset_planner()"
   ]
  },
  {
   "cell_type": "code",
   "execution_count": 35,
   "id": "fd07ec69",
   "metadata": {},
   "outputs": [],
   "source": [
    "x0 = np.array([0, 1.0, 0, 0, 0, 0, 0, 0])\n",
    "tfinal = 10\n",
    "tvec = np.linspace(0,tfinal,201)\n",
    "h = params[\"h\"]\n",
    "x = x0*1\n",
    "q_sim = []\n",
    "for ti in tvec:\n",
    "    u = controller_jax.get_action(x)\n",
    "    x = hopper_dynamics(x, u, h)\n",
    "    q_sim.append(x[0:4])"
   ]
  },
  {
   "cell_type": "code",
   "execution_count": 36,
   "id": "a0c2553c",
   "metadata": {},
   "outputs": [],
   "source": [
    "visualize_hopper(vis, q_sim, h)"
   ]
  },
  {
   "cell_type": "code",
   "execution_count": null,
   "id": "d10f93da",
   "metadata": {},
   "outputs": [],
   "source": []
  }
 ],
 "metadata": {
  "kernelspec": {
   "display_name": "Python (base)",
   "language": "python",
   "name": "base"
  },
  "language_info": {
   "codemirror_mode": {
    "name": "ipython",
    "version": 3
   },
   "file_extension": ".py",
   "mimetype": "text/x-python",
   "name": "python",
   "nbconvert_exporter": "python",
   "pygments_lexer": "ipython3",
   "version": "3.9.13"
  }
 },
 "nbformat": 4,
 "nbformat_minor": 5
}
